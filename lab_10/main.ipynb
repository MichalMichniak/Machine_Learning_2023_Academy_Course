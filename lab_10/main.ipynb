{
 "cells": [
  {
   "cell_type": "code",
   "execution_count": 34,
   "metadata": {},
   "outputs": [],
   "source": [
    "import numpy as np\n",
    "from keras.datasets import mnist\n",
    "import keras\n",
    "from keras import layers\n",
    "from sklearn.metrics import classification_report, confusion_matrix"
   ]
  },
  {
   "cell_type": "code",
   "execution_count": 35,
   "metadata": {},
   "outputs": [
    {
     "name": "stdout",
     "output_type": "stream",
     "text": [
      "(60000, 28, 28)\n"
     ]
    }
   ],
   "source": [
    "training_set, test_set = mnist.load_data()\n",
    "X_train, y_train = training_set\n",
    "X_test, y_test = test_set\n",
    "print(X_train.shape)"
   ]
  },
  {
   "cell_type": "code",
   "execution_count": 36,
   "metadata": {},
   "outputs": [
    {
     "name": "stdout",
     "output_type": "stream",
     "text": [
      "(60000, 28, 28, 1)\n"
     ]
    }
   ],
   "source": [
    "X_train = np.expand_dims(X_train, -1)\n",
    "X_test = np.expand_dims(X_test, -1)\n",
    "print(X_train.shape)"
   ]
  },
  {
   "cell_type": "code",
   "execution_count": 37,
   "metadata": {},
   "outputs": [
    {
     "name": "stderr",
     "output_type": "stream",
     "text": [
      "C:\\Users\\nikos\\AppData\\Local\\Temp\\ipykernel_35324\\1404525770.py:1: DeprecationWarning: `np.float` is a deprecated alias for the builtin `float`. To silence this warning, use `float` by itself. Doing this will not modify any behavior and is safe. If you specifically wanted the numpy scalar type, use `np.float64` here.\n",
      "Deprecated in NumPy 1.20; for more details and guidance: https://numpy.org/devdocs/release/1.20.0-notes.html#deprecations\n",
      "  X_train = X_train.astype(np.float) / 255.0\n",
      "C:\\Users\\nikos\\AppData\\Local\\Temp\\ipykernel_35324\\1404525770.py:2: DeprecationWarning: `np.float` is a deprecated alias for the builtin `float`. To silence this warning, use `float` by itself. Doing this will not modify any behavior and is safe. If you specifically wanted the numpy scalar type, use `np.float64` here.\n",
      "Deprecated in NumPy 1.20; for more details and guidance: https://numpy.org/devdocs/release/1.20.0-notes.html#deprecations\n",
      "  X_test = X_test.astype(np.float) / 255.0\n"
     ]
    }
   ],
   "source": [
    "X_train = X_train.astype(np.float) / 255.0  \n",
    "X_test = X_test.astype(np.float) / 255.0"
   ]
  },
  {
   "cell_type": "code",
   "execution_count": 38,
   "metadata": {},
   "outputs": [],
   "source": [
    "num_classes = 10\n",
    "input_shape = (28, 28, 1)\n",
    "batch_size = 128\n",
    "epochs = 30"
   ]
  },
  {
   "attachments": {},
   "cell_type": "markdown",
   "metadata": {},
   "source": [
    "##### 1 layer linear NN"
   ]
  },
  {
   "cell_type": "code",
   "execution_count": 39,
   "metadata": {},
   "outputs": [],
   "source": [
    "model1 = keras.Sequential(\n",
    "        [\n",
    "            keras.Input(shape=input_shape),\n",
    "            keras.layers.Flatten(),\n",
    "            layers.Dense(num_classes, activation=\"softmax\")\n",
    "        ]\n",
    "    )"
   ]
  },
  {
   "cell_type": "code",
   "execution_count": 40,
   "metadata": {},
   "outputs": [
    {
     "name": "stdout",
     "output_type": "stream",
     "text": [
      "Model: \"sequential_4\"\n",
      "_________________________________________________________________\n",
      " Layer (type)                Output Shape              Param #   \n",
      "=================================================================\n",
      " flatten_4 (Flatten)         (None, 784)               0         \n",
      "                                                                 \n",
      " dense_6 (Dense)             (None, 10)                7850      \n",
      "                                                                 \n",
      "=================================================================\n",
      "Total params: 7,850\n",
      "Trainable params: 7,850\n",
      "Non-trainable params: 0\n",
      "_________________________________________________________________\n"
     ]
    }
   ],
   "source": [
    "model1.summary()"
   ]
  },
  {
   "cell_type": "code",
   "execution_count": 41,
   "metadata": {},
   "outputs": [],
   "source": [
    "model1.compile(loss=\"sparse_categorical_crossentropy\", optimizer=\"adam\", metrics=[\"accuracy\"])"
   ]
  },
  {
   "cell_type": "code",
   "execution_count": 42,
   "metadata": {},
   "outputs": [
    {
     "name": "stdout",
     "output_type": "stream",
     "text": [
      "Epoch 1/30\n",
      "375/375 [==============================] - 1s 1ms/step - loss: 0.7475 - accuracy: 0.8195 - val_loss: 0.4096 - val_accuracy: 0.8999\n",
      "Epoch 2/30\n",
      "375/375 [==============================] - 0s 914us/step - loss: 0.3894 - accuracy: 0.8965 - val_loss: 0.3352 - val_accuracy: 0.9091\n",
      "Epoch 3/30\n",
      "375/375 [==============================] - 0s 912us/step - loss: 0.3386 - accuracy: 0.9078 - val_loss: 0.3076 - val_accuracy: 0.9150\n",
      "Epoch 4/30\n",
      "375/375 [==============================] - 0s 888us/step - loss: 0.3148 - accuracy: 0.9129 - val_loss: 0.2945 - val_accuracy: 0.9186\n",
      "Epoch 5/30\n",
      "375/375 [==============================] - 0s 904us/step - loss: 0.3009 - accuracy: 0.9166 - val_loss: 0.2855 - val_accuracy: 0.9205\n",
      "Epoch 6/30\n",
      "375/375 [==============================] - 0s 906us/step - loss: 0.2911 - accuracy: 0.9182 - val_loss: 0.2789 - val_accuracy: 0.9234\n",
      "Epoch 7/30\n",
      "375/375 [==============================] - 0s 904us/step - loss: 0.2841 - accuracy: 0.9205 - val_loss: 0.2743 - val_accuracy: 0.9258\n",
      "Epoch 8/30\n",
      "375/375 [==============================] - 0s 920us/step - loss: 0.2786 - accuracy: 0.9218 - val_loss: 0.2714 - val_accuracy: 0.9251\n",
      "Epoch 9/30\n",
      "375/375 [==============================] - 0s 902us/step - loss: 0.2741 - accuracy: 0.9232 - val_loss: 0.2685 - val_accuracy: 0.9262\n",
      "Epoch 10/30\n",
      "375/375 [==============================] - 0s 909us/step - loss: 0.2697 - accuracy: 0.9247 - val_loss: 0.2675 - val_accuracy: 0.9258\n",
      "Epoch 11/30\n",
      "375/375 [==============================] - 0s 900us/step - loss: 0.2672 - accuracy: 0.9262 - val_loss: 0.2660 - val_accuracy: 0.9262\n",
      "Epoch 12/30\n",
      "375/375 [==============================] - 0s 906us/step - loss: 0.2642 - accuracy: 0.9263 - val_loss: 0.2648 - val_accuracy: 0.9280\n",
      "Epoch 13/30\n",
      "375/375 [==============================] - 0s 949us/step - loss: 0.2620 - accuracy: 0.9272 - val_loss: 0.2626 - val_accuracy: 0.9276\n",
      "Epoch 14/30\n",
      "375/375 [==============================] - 0s 915us/step - loss: 0.2597 - accuracy: 0.9279 - val_loss: 0.2621 - val_accuracy: 0.9279\n",
      "Epoch 15/30\n",
      "375/375 [==============================] - 0s 925us/step - loss: 0.2577 - accuracy: 0.9283 - val_loss: 0.2603 - val_accuracy: 0.9292\n",
      "Epoch 16/30\n",
      "375/375 [==============================] - 0s 922us/step - loss: 0.2560 - accuracy: 0.9282 - val_loss: 0.2605 - val_accuracy: 0.9283\n",
      "Epoch 17/30\n",
      "375/375 [==============================] - 0s 923us/step - loss: 0.2548 - accuracy: 0.9287 - val_loss: 0.2608 - val_accuracy: 0.9302\n",
      "Epoch 18/30\n",
      "375/375 [==============================] - 0s 922us/step - loss: 0.2529 - accuracy: 0.9291 - val_loss: 0.2623 - val_accuracy: 0.9277\n",
      "Epoch 19/30\n",
      "375/375 [==============================] - 0s 914us/step - loss: 0.2515 - accuracy: 0.9302 - val_loss: 0.2596 - val_accuracy: 0.9301\n",
      "Epoch 20/30\n",
      "375/375 [==============================] - 0s 904us/step - loss: 0.2504 - accuracy: 0.9304 - val_loss: 0.2603 - val_accuracy: 0.9297\n",
      "Epoch 21/30\n",
      "375/375 [==============================] - 0s 925us/step - loss: 0.2494 - accuracy: 0.9306 - val_loss: 0.2603 - val_accuracy: 0.9300\n",
      "Epoch 22/30\n",
      "375/375 [==============================] - 0s 930us/step - loss: 0.2485 - accuracy: 0.9303 - val_loss: 0.2601 - val_accuracy: 0.9290\n",
      "Epoch 23/30\n",
      "375/375 [==============================] - 0s 904us/step - loss: 0.2471 - accuracy: 0.9313 - val_loss: 0.2610 - val_accuracy: 0.9289\n",
      "Epoch 24/30\n",
      "375/375 [==============================] - 0s 893us/step - loss: 0.2464 - accuracy: 0.9314 - val_loss: 0.2590 - val_accuracy: 0.9306\n",
      "Epoch 25/30\n",
      "375/375 [==============================] - 0s 905us/step - loss: 0.2455 - accuracy: 0.9312 - val_loss: 0.2581 - val_accuracy: 0.9305\n",
      "Epoch 26/30\n",
      "375/375 [==============================] - 0s 904us/step - loss: 0.2445 - accuracy: 0.9320 - val_loss: 0.2595 - val_accuracy: 0.9303\n",
      "Epoch 27/30\n",
      "375/375 [==============================] - 0s 906us/step - loss: 0.2441 - accuracy: 0.9325 - val_loss: 0.2599 - val_accuracy: 0.9297\n",
      "Epoch 28/30\n",
      "375/375 [==============================] - 0s 925us/step - loss: 0.2428 - accuracy: 0.9326 - val_loss: 0.2603 - val_accuracy: 0.9298\n",
      "Epoch 29/30\n",
      "375/375 [==============================] - 0s 898us/step - loss: 0.2424 - accuracy: 0.9324 - val_loss: 0.2595 - val_accuracy: 0.9308\n",
      "Epoch 30/30\n",
      "375/375 [==============================] - 0s 912us/step - loss: 0.2417 - accuracy: 0.9324 - val_loss: 0.2589 - val_accuracy: 0.9309\n"
     ]
    },
    {
     "data": {
      "text/plain": [
       "<keras.callbacks.History at 0x122433a8f70>"
      ]
     },
     "execution_count": 42,
     "metadata": {},
     "output_type": "execute_result"
    }
   ],
   "source": [
    "model1.fit(X_train, y_train, batch_size=batch_size, epochs=epochs, validation_split=0.2)"
   ]
  },
  {
   "cell_type": "code",
   "execution_count": 43,
   "metadata": {},
   "outputs": [
    {
     "name": "stdout",
     "output_type": "stream",
     "text": [
      "313/313 [==============================] - 0s 410us/step\n",
      "              precision    recall  f1-score   support\n",
      "\n",
      "           0       0.95      0.98      0.97       980\n",
      "           1       0.97      0.98      0.97      1135\n",
      "           2       0.94      0.89      0.91      1032\n",
      "           3       0.89      0.92      0.91      1010\n",
      "           4       0.94      0.93      0.94       982\n",
      "           5       0.91      0.87      0.89       892\n",
      "           6       0.94      0.95      0.95       958\n",
      "           7       0.93      0.93      0.93      1028\n",
      "           8       0.88      0.90      0.89       974\n",
      "           9       0.92      0.91      0.92      1009\n",
      "\n",
      "    accuracy                           0.93     10000\n",
      "   macro avg       0.93      0.93      0.93     10000\n",
      "weighted avg       0.93      0.93      0.93     10000\n",
      "\n",
      "[[ 963    0    1    2    0    6    5    2    1    0]\n",
      " [   0 1113    3    3    0    1    3    2   10    0]\n",
      " [   7   10  917   23    7    4   13    8   40    3]\n",
      " [   3    0   13  931    0   23    2   11   21    6]\n",
      " [   1    2    5    2  918    0    9    4    9   32]\n",
      " [   8    2    3   39    8  775   14    8   30    5]\n",
      " [  12    3    6    1    7   12  914    1    2    0]\n",
      " [   1    6   20   11    7    1    0  952    2   28]\n",
      " [   7    7    6   23    8   22   10   10  875    6]\n",
      " [  11    7    1   12   23    6    0   22    6  921]]\n"
     ]
    }
   ],
   "source": [
    "from sklearn.metrics import classification_report, confusion_matrix\n",
    "\n",
    "y_probab = model1.predict(X_test)\n",
    "y_pred = np.argmax(y_probab, axis=1)\n",
    "\n",
    "print(classification_report(y_test, y_pred))\n",
    "print(confusion_matrix(y_test, y_pred))"
   ]
  },
  {
   "attachments": {},
   "cell_type": "markdown",
   "metadata": {},
   "source": [
    "#### 2 hidden non linear"
   ]
  },
  {
   "cell_type": "code",
   "execution_count": 44,
   "metadata": {},
   "outputs": [],
   "source": [
    "model = keras.Sequential(\n",
    "        [\n",
    "            keras.Input(shape=input_shape),\n",
    "            keras.layers.Flatten(),\n",
    "            layers.Dense(64, activation=\"tanh\"),\n",
    "            layers.Dense(128, activation=\"tanh\"),\n",
    "            layers.Dense(num_classes, activation=\"softmax\")\n",
    "        ]\n",
    "    )"
   ]
  },
  {
   "cell_type": "code",
   "execution_count": 45,
   "metadata": {},
   "outputs": [],
   "source": [
    "model.compile(loss=\"sparse_categorical_crossentropy\", optimizer=\"adam\", metrics=[\"accuracy\"])"
   ]
  },
  {
   "cell_type": "code",
   "execution_count": 46,
   "metadata": {},
   "outputs": [
    {
     "name": "stdout",
     "output_type": "stream",
     "text": [
      "Epoch 1/30\n",
      "375/375 [==============================] - 1s 2ms/step - loss: 0.4004 - accuracy: 0.8876 - val_loss: 0.2136 - val_accuracy: 0.9387\n",
      "Epoch 2/30\n",
      "375/375 [==============================] - 1s 2ms/step - loss: 0.1894 - accuracy: 0.9441 - val_loss: 0.1605 - val_accuracy: 0.9537\n",
      "Epoch 3/30\n",
      "375/375 [==============================] - 1s 2ms/step - loss: 0.1373 - accuracy: 0.9595 - val_loss: 0.1401 - val_accuracy: 0.9586\n",
      "Epoch 4/30\n",
      "375/375 [==============================] - 1s 2ms/step - loss: 0.1073 - accuracy: 0.9684 - val_loss: 0.1172 - val_accuracy: 0.9638\n",
      "Epoch 5/30\n",
      "375/375 [==============================] - 1s 2ms/step - loss: 0.0849 - accuracy: 0.9752 - val_loss: 0.1097 - val_accuracy: 0.9672\n",
      "Epoch 6/30\n",
      "375/375 [==============================] - 1s 2ms/step - loss: 0.0690 - accuracy: 0.9795 - val_loss: 0.1051 - val_accuracy: 0.9686\n",
      "Epoch 7/30\n",
      "375/375 [==============================] - 1s 2ms/step - loss: 0.0589 - accuracy: 0.9825 - val_loss: 0.1023 - val_accuracy: 0.9708\n",
      "Epoch 8/30\n",
      "375/375 [==============================] - 1s 2ms/step - loss: 0.0487 - accuracy: 0.9857 - val_loss: 0.0980 - val_accuracy: 0.9707\n",
      "Epoch 9/30\n",
      "375/375 [==============================] - 1s 2ms/step - loss: 0.0407 - accuracy: 0.9880 - val_loss: 0.0979 - val_accuracy: 0.9713\n",
      "Epoch 10/30\n",
      "375/375 [==============================] - 1s 2ms/step - loss: 0.0338 - accuracy: 0.9907 - val_loss: 0.1008 - val_accuracy: 0.9703\n",
      "Epoch 11/30\n",
      "375/375 [==============================] - 1s 1ms/step - loss: 0.0286 - accuracy: 0.9922 - val_loss: 0.1029 - val_accuracy: 0.9713\n",
      "Epoch 12/30\n",
      "375/375 [==============================] - 1s 1ms/step - loss: 0.0247 - accuracy: 0.9931 - val_loss: 0.1102 - val_accuracy: 0.9696\n",
      "Epoch 13/30\n",
      "375/375 [==============================] - 1s 2ms/step - loss: 0.0199 - accuracy: 0.9946 - val_loss: 0.1064 - val_accuracy: 0.9726\n",
      "Epoch 14/30\n",
      "375/375 [==============================] - 1s 2ms/step - loss: 0.0157 - accuracy: 0.9961 - val_loss: 0.1150 - val_accuracy: 0.9690\n",
      "Epoch 15/30\n",
      "375/375 [==============================] - 1s 2ms/step - loss: 0.0144 - accuracy: 0.9964 - val_loss: 0.1221 - val_accuracy: 0.9682\n",
      "Epoch 16/30\n",
      "375/375 [==============================] - 1s 2ms/step - loss: 0.0123 - accuracy: 0.9970 - val_loss: 0.1297 - val_accuracy: 0.9683\n",
      "Epoch 17/30\n",
      "375/375 [==============================] - 1s 2ms/step - loss: 0.0097 - accuracy: 0.9978 - val_loss: 0.1147 - val_accuracy: 0.9729\n",
      "Epoch 18/30\n",
      "375/375 [==============================] - 1s 2ms/step - loss: 0.0102 - accuracy: 0.9971 - val_loss: 0.1245 - val_accuracy: 0.9709\n",
      "Epoch 19/30\n",
      "375/375 [==============================] - 1s 1ms/step - loss: 0.0113 - accuracy: 0.9968 - val_loss: 0.1272 - val_accuracy: 0.9713\n",
      "Epoch 20/30\n",
      "375/375 [==============================] - 1s 1ms/step - loss: 0.0070 - accuracy: 0.9982 - val_loss: 0.1259 - val_accuracy: 0.9712\n",
      "Epoch 21/30\n",
      "375/375 [==============================] - 1s 2ms/step - loss: 0.0051 - accuracy: 0.9990 - val_loss: 0.1319 - val_accuracy: 0.9712\n",
      "Epoch 22/30\n",
      "375/375 [==============================] - 1s 2ms/step - loss: 0.0049 - accuracy: 0.9989 - val_loss: 0.1286 - val_accuracy: 0.9725\n",
      "Epoch 23/30\n",
      "375/375 [==============================] - 1s 2ms/step - loss: 0.0041 - accuracy: 0.9992 - val_loss: 0.1373 - val_accuracy: 0.9716\n",
      "Epoch 24/30\n",
      "375/375 [==============================] - 1s 2ms/step - loss: 0.0029 - accuracy: 0.9993 - val_loss: 0.1461 - val_accuracy: 0.9699\n",
      "Epoch 25/30\n",
      "375/375 [==============================] - 1s 2ms/step - loss: 0.0104 - accuracy: 0.9964 - val_loss: 0.1566 - val_accuracy: 0.9687\n",
      "Epoch 26/30\n",
      "375/375 [==============================] - 1s 2ms/step - loss: 0.0084 - accuracy: 0.9974 - val_loss: 0.1461 - val_accuracy: 0.9706\n",
      "Epoch 27/30\n",
      "375/375 [==============================] - 1s 2ms/step - loss: 0.0034 - accuracy: 0.9992 - val_loss: 0.1424 - val_accuracy: 0.9722\n",
      "Epoch 28/30\n",
      "375/375 [==============================] - 1s 2ms/step - loss: 0.0012 - accuracy: 0.9999 - val_loss: 0.1425 - val_accuracy: 0.9725\n",
      "Epoch 29/30\n",
      "375/375 [==============================] - 1s 2ms/step - loss: 0.0017 - accuracy: 0.9998 - val_loss: 0.1512 - val_accuracy: 0.9729\n",
      "Epoch 30/30\n",
      "375/375 [==============================] - 1s 2ms/step - loss: 0.0012 - accuracy: 0.9999 - val_loss: 0.1517 - val_accuracy: 0.9728\n"
     ]
    },
    {
     "data": {
      "text/plain": [
       "<keras.callbacks.History at 0x1224338bcd0>"
      ]
     },
     "execution_count": 46,
     "metadata": {},
     "output_type": "execute_result"
    }
   ],
   "source": [
    "model.fit(X_train, y_train, batch_size=batch_size, epochs=epochs, validation_split=0.2)"
   ]
  },
  {
   "attachments": {},
   "cell_type": "markdown",
   "metadata": {},
   "source": [
    "##### evaluation"
   ]
  },
  {
   "cell_type": "code",
   "execution_count": 47,
   "metadata": {},
   "outputs": [
    {
     "name": "stdout",
     "output_type": "stream",
     "text": [
      "313/313 [==============================] - 0s 558us/step\n",
      "              precision    recall  f1-score   support\n",
      "\n",
      "           0       0.97      0.99      0.98       980\n",
      "           1       1.00      0.98      0.99      1135\n",
      "           2       0.96      0.98      0.97      1032\n",
      "           3       0.95      0.98      0.96      1010\n",
      "           4       0.98      0.98      0.98       982\n",
      "           5       0.98      0.96      0.97       892\n",
      "           6       0.99      0.97      0.98       958\n",
      "           7       0.98      0.97      0.97      1028\n",
      "           8       0.97      0.97      0.97       974\n",
      "           9       0.97      0.96      0.97      1009\n",
      "\n",
      "    accuracy                           0.97     10000\n",
      "   macro avg       0.97      0.97      0.97     10000\n",
      "weighted avg       0.97      0.97      0.97     10000\n",
      "\n",
      "[[ 972    0    1    2    0    1    1    1    2    0]\n",
      " [   2 1114    4    4    0    1    2    2    6    0]\n",
      " [   1    0 1011    5    4    0    2    5    4    0]\n",
      " [   0    0    9  988    0    3    0    2    6    2]\n",
      " [   2    0    2    1  962    0    2    0    1   12]\n",
      " [   4    0    0   20    0  858    1    1    6    2]\n",
      " [   9    2    2    1    7    6  926    0    4    1]\n",
      " [   1    1   13    4    4    1    0  996    3    5]\n",
      " [   4    0    5   10    2    4    2    3  941    3]\n",
      " [   3    1    1    8    7    3    1   10    2  973]]\n"
     ]
    }
   ],
   "source": [
    "from sklearn.metrics import classification_report, confusion_matrix\n",
    "\n",
    "y_probab = model.predict(X_test)\n",
    "y_pred = np.argmax(y_probab, axis=1)\n",
    "\n",
    "print(classification_report(y_test, y_pred))\n",
    "print(confusion_matrix(y_test, y_pred))"
   ]
  },
  {
   "attachments": {},
   "cell_type": "markdown",
   "metadata": {},
   "source": [
    "#### CNN"
   ]
  },
  {
   "cell_type": "code",
   "execution_count": 49,
   "metadata": {},
   "outputs": [],
   "source": [
    "modelCNN = keras.Sequential(\n",
    "        [\n",
    "            keras.Input(shape=input_shape),\n",
    "            layers.Conv2D(32, kernel_size=(3, 3), activation=\"relu\"),\n",
    "            layers.MaxPooling2D(pool_size=(2, 2)),\n",
    "            layers.Conv2D(64, kernel_size=(3, 3), activation=\"relu\"),\n",
    "            layers.MaxPooling2D(pool_size=(2, 2)),\n",
    "            layers.Flatten(),\n",
    "            layers.Dropout(0.5),\n",
    "            layers.Dense(num_classes, activation=\"softmax\"),\n",
    "        ]\n",
    "    )"
   ]
  },
  {
   "cell_type": "code",
   "execution_count": 50,
   "metadata": {},
   "outputs": [
    {
     "name": "stdout",
     "output_type": "stream",
     "text": [
      "Epoch 1/30\n",
      "375/375 [==============================] - 9s 23ms/step - loss: 0.3982 - accuracy: 0.8781 - val_loss: 0.1003 - val_accuracy: 0.9719\n",
      "Epoch 2/30\n",
      "375/375 [==============================] - 9s 23ms/step - loss: 0.1193 - accuracy: 0.9637 - val_loss: 0.0653 - val_accuracy: 0.9822\n",
      "Epoch 3/30\n",
      "375/375 [==============================] - 9s 23ms/step - loss: 0.0901 - accuracy: 0.9726 - val_loss: 0.0608 - val_accuracy: 0.9821\n",
      "Epoch 4/30\n",
      "375/375 [==============================] - 8s 23ms/step - loss: 0.0707 - accuracy: 0.9774 - val_loss: 0.0476 - val_accuracy: 0.9870\n",
      "Epoch 5/30\n",
      "375/375 [==============================] - 9s 23ms/step - loss: 0.0637 - accuracy: 0.9807 - val_loss: 0.0448 - val_accuracy: 0.9878\n",
      "Epoch 6/30\n",
      "375/375 [==============================] - 8s 22ms/step - loss: 0.0576 - accuracy: 0.9823 - val_loss: 0.0445 - val_accuracy: 0.9868\n",
      "Epoch 7/30\n",
      "375/375 [==============================] - 8s 22ms/step - loss: 0.0528 - accuracy: 0.9835 - val_loss: 0.0410 - val_accuracy: 0.9881\n",
      "Epoch 8/30\n",
      "375/375 [==============================] - 9s 23ms/step - loss: 0.0491 - accuracy: 0.9845 - val_loss: 0.0385 - val_accuracy: 0.9893\n",
      "Epoch 9/30\n",
      "375/375 [==============================] - 8s 23ms/step - loss: 0.0465 - accuracy: 0.9859 - val_loss: 0.0353 - val_accuracy: 0.9893\n",
      "Epoch 10/30\n",
      "375/375 [==============================] - 8s 22ms/step - loss: 0.0446 - accuracy: 0.9859 - val_loss: 0.0357 - val_accuracy: 0.9894\n",
      "Epoch 11/30\n",
      "375/375 [==============================] - 8s 22ms/step - loss: 0.0436 - accuracy: 0.9863 - val_loss: 0.0349 - val_accuracy: 0.9904\n",
      "Epoch 12/30\n",
      "375/375 [==============================] - 8s 22ms/step - loss: 0.0381 - accuracy: 0.9871 - val_loss: 0.0359 - val_accuracy: 0.9895\n",
      "Epoch 13/30\n",
      "375/375 [==============================] - 8s 22ms/step - loss: 0.0372 - accuracy: 0.9876 - val_loss: 0.0328 - val_accuracy: 0.9907\n",
      "Epoch 14/30\n",
      "375/375 [==============================] - 8s 22ms/step - loss: 0.0356 - accuracy: 0.9885 - val_loss: 0.0358 - val_accuracy: 0.9902\n",
      "Epoch 15/30\n",
      "375/375 [==============================] - 8s 22ms/step - loss: 0.0338 - accuracy: 0.9893 - val_loss: 0.0325 - val_accuracy: 0.9911\n",
      "Epoch 16/30\n",
      "375/375 [==============================] - 8s 22ms/step - loss: 0.0332 - accuracy: 0.9891 - val_loss: 0.0342 - val_accuracy: 0.9900\n",
      "Epoch 17/30\n",
      "375/375 [==============================] - 8s 22ms/step - loss: 0.0327 - accuracy: 0.9891 - val_loss: 0.0358 - val_accuracy: 0.9908\n",
      "Epoch 18/30\n",
      "375/375 [==============================] - 8s 22ms/step - loss: 0.0325 - accuracy: 0.9893 - val_loss: 0.0325 - val_accuracy: 0.9907\n",
      "Epoch 19/30\n",
      "375/375 [==============================] - 8s 22ms/step - loss: 0.0298 - accuracy: 0.9906 - val_loss: 0.0329 - val_accuracy: 0.9907\n",
      "Epoch 20/30\n",
      "375/375 [==============================] - 8s 22ms/step - loss: 0.0283 - accuracy: 0.9908 - val_loss: 0.0316 - val_accuracy: 0.9913\n",
      "Epoch 21/30\n",
      "375/375 [==============================] - 8s 22ms/step - loss: 0.0282 - accuracy: 0.9908 - val_loss: 0.0301 - val_accuracy: 0.9915\n",
      "Epoch 22/30\n",
      "375/375 [==============================] - 8s 22ms/step - loss: 0.0261 - accuracy: 0.9908 - val_loss: 0.0322 - val_accuracy: 0.9918\n",
      "Epoch 23/30\n",
      "375/375 [==============================] - 9s 23ms/step - loss: 0.0260 - accuracy: 0.9915 - val_loss: 0.0307 - val_accuracy: 0.9910\n",
      "Epoch 24/30\n",
      "375/375 [==============================] - 9s 23ms/step - loss: 0.0257 - accuracy: 0.9918 - val_loss: 0.0287 - val_accuracy: 0.9924\n",
      "Epoch 25/30\n",
      "375/375 [==============================] - 8s 23ms/step - loss: 0.0243 - accuracy: 0.9916 - val_loss: 0.0305 - val_accuracy: 0.9922\n",
      "Epoch 26/30\n",
      "375/375 [==============================] - 8s 23ms/step - loss: 0.0237 - accuracy: 0.9922 - val_loss: 0.0316 - val_accuracy: 0.9919\n",
      "Epoch 27/30\n",
      "375/375 [==============================] - 9s 23ms/step - loss: 0.0241 - accuracy: 0.9918 - val_loss: 0.0306 - val_accuracy: 0.9925\n",
      "Epoch 28/30\n",
      "375/375 [==============================] - 9s 23ms/step - loss: 0.0221 - accuracy: 0.9926 - val_loss: 0.0297 - val_accuracy: 0.9923\n",
      "Epoch 29/30\n",
      "375/375 [==============================] - 9s 23ms/step - loss: 0.0223 - accuracy: 0.9920 - val_loss: 0.0346 - val_accuracy: 0.9914\n",
      "Epoch 30/30\n",
      "375/375 [==============================] - 9s 23ms/step - loss: 0.0223 - accuracy: 0.9923 - val_loss: 0.0299 - val_accuracy: 0.9919\n"
     ]
    },
    {
     "data": {
      "text/plain": [
       "<keras.callbacks.History at 0x12244657a30>"
      ]
     },
     "execution_count": 50,
     "metadata": {},
     "output_type": "execute_result"
    }
   ],
   "source": [
    "modelCNN.compile(loss=\"sparse_categorical_crossentropy\", optimizer=\"adam\", metrics=[\"accuracy\"])\n",
    "modelCNN.fit(X_train, y_train, batch_size=batch_size, epochs=epochs, validation_split=0.2)"
   ]
  },
  {
   "attachments": {},
   "cell_type": "markdown",
   "metadata": {},
   "source": [
    "##### evaluation"
   ]
  },
  {
   "cell_type": "code",
   "execution_count": 51,
   "metadata": {},
   "outputs": [
    {
     "name": "stdout",
     "output_type": "stream",
     "text": [
      "313/313 [==============================] - 1s 3ms/step\n",
      "              precision    recall  f1-score   support\n",
      "\n",
      "           0       0.99      1.00      0.99       980\n",
      "           1       0.99      1.00      1.00      1135\n",
      "           2       0.99      0.99      0.99      1032\n",
      "           3       0.99      0.99      0.99      1010\n",
      "           4       0.99      1.00      1.00       982\n",
      "           5       0.99      0.99      0.99       892\n",
      "           6       1.00      0.99      0.99       958\n",
      "           7       0.99      0.99      0.99      1028\n",
      "           8       0.99      0.99      0.99       974\n",
      "           9       0.99      0.98      0.99      1009\n",
      "\n",
      "    accuracy                           0.99     10000\n",
      "   macro avg       0.99      0.99      0.99     10000\n",
      "weighted avg       0.99      0.99      0.99     10000\n",
      "\n",
      "[[ 978    0    0    0    0    0    0    1    1    0]\n",
      " [   0 1134    0    0    0    0    0    1    0    0]\n",
      " [   2    2 1022    0    0    0    0    5    1    0]\n",
      " [   1    0    2 1004    0    2    0    0    1    0]\n",
      " [   0    0    0    0  978    0    1    1    0    2]\n",
      " [   0    0    1    5    0  883    1    0    1    1]\n",
      " [   4    2    1    0    1    5  944    0    1    0]\n",
      " [   0    3    3    1    0    0    0 1019    1    1]\n",
      " [   2    0    1    0    0    1    0    1  967    2]\n",
      " [   1    0    0    0    4    4    1    4    2  993]]\n"
     ]
    }
   ],
   "source": [
    "y_probab = modelCNN.predict(X_test)\n",
    "y_pred = np.argmax(y_probab, axis=1)\n",
    "\n",
    "print(classification_report(y_test, y_pred))\n",
    "print(confusion_matrix(y_test, y_pred))"
   ]
  }
 ],
 "metadata": {
  "kernelspec": {
   "display_name": "Python 3",
   "language": "python",
   "name": "python3"
  },
  "language_info": {
   "codemirror_mode": {
    "name": "ipython",
    "version": 3
   },
   "file_extension": ".py",
   "mimetype": "text/x-python",
   "name": "python",
   "nbconvert_exporter": "python",
   "pygments_lexer": "ipython3",
   "version": "3.9.13"
  },
  "orig_nbformat": 4
 },
 "nbformat": 4,
 "nbformat_minor": 2
}
